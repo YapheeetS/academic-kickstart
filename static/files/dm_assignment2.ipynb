{
  "nbformat": 4,
  "nbformat_minor": 0,
  "metadata": {
    "colab": {
      "name": "dm_assigment2.ipynb",
      "provenance": []
    },
    "kernelspec": {
      "name": "python3",
      "display_name": "Python 3"
    }
  },
  "cells": [
    {
      "cell_type": "markdown",
      "metadata": {
        "id": "EvjOduvo5eO2",
        "colab_type": "text"
      },
      "source": [
        "## Load data"
      ]
    },
    {
      "cell_type": "code",
      "metadata": {
        "id": "9z6GuNH1yJOu",
        "colab_type": "code",
        "colab": {
          "base_uri": "https://localhost:8080/",
          "height": 153
        },
        "outputId": "b8023274-35fc-4763-c092-162a4350c18d"
      },
      "source": [
        "import numpy as np\n",
        "\n",
        "def load_data():\n",
        "\n",
        "  data_set = []\n",
        "  with open('./iris.data', 'r') as f:\n",
        "    data = f.read().splitlines()\n",
        "    data = data[:-1]\n",
        "    data_index = [i for i in range(len(data))]\n",
        "    np.random.shuffle(data_index)\n",
        "    data = np.array(data)\n",
        "    data = data[data_index]\n",
        "    for i, d in enumerate(data):\n",
        "      # print(d)\n",
        "      d = d.split(\",\")\n",
        "      d = np.array(d)\n",
        "      d[:-1] = d[:-1].astype(float)\n",
        "      data_set.append(d)\n",
        "    data_set = np.array(data_set)\n",
        "    return data_set\n",
        "\n",
        "data = load_data()\n",
        "print(data[:8])\n",
        "train = data[:105]\n",
        "test = data[105:]"
      ],
      "execution_count": 335,
      "outputs": [
        {
          "output_type": "stream",
          "text": [
            "[['5.2' '3.4' '1.4' '0.2' 'Iris-setosa']\n",
            " ['6.1' '2.8' '4.7' '1.2' 'Iris-versicolor']\n",
            " ['4.7' '3.2' '1.6' '0.2' 'Iris-setosa']\n",
            " ['7.2' '3.6' '6.1' '2.5' 'Iris-virginica']\n",
            " ['6.7' '3.1' '4.7' '1.5' 'Iris-versicolor']\n",
            " ['5.6' '2.9' '3.6' '1.3' 'Iris-versicolor']\n",
            " ['6.1' '2.6' '5.6' '1.4' 'Iris-virginica']\n",
            " ['6.7' '3.1' '4.4' '1.4' 'Iris-versicolor']]\n"
          ],
          "name": "stdout"
        }
      ]
    },
    {
      "cell_type": "markdown",
      "metadata": {
        "id": "A4KfcDgS7IGX",
        "colab_type": "text"
      },
      "source": [
        "## Define differnt distance"
      ]
    },
    {
      "cell_type": "code",
      "metadata": {
        "id": "pNX10h9P5GlU",
        "colab_type": "code",
        "colab": {}
      },
      "source": [
        "def euclidean_distance(x1, x2):\n",
        "  x1 = x1.astype(float)\n",
        "  x2 = x2.astype(float)\n",
        "  return np.sqrt(np.sum((x1 - x2) ** 2))\n",
        "\n",
        "\n",
        "def normalized_euclidean_distance(x1, x2):\n",
        "\n",
        "  x1 = x1.astype(float)\n",
        "  x2 = x2.astype(float)\n",
        "  return 0.5 * (np.var(x1-x2) / (np.var(x1) + np.var(x2)))\n",
        "\n",
        "  # x1 = x1 / np.sqrt(np.sum(x1 ** 2))\n",
        "  # x2 = x2 / np.sqrt(np.sum(x2 ** 2))\n",
        "  # return euclidean_distance(x1, x2)\n",
        "\n",
        "  # X=np.vstack([x1,x2])\n",
        "  # sk = np.var(X, axis=0, ddof=1)\n",
        "  # d1 = np.sqrt(((x1 - x2) ** 2 /sk).sum())\n",
        "  # return d1\n",
        "\n",
        "\n",
        "def cos_sim(x1, x2):\n",
        "  x1 = x1.astype(float)\n",
        "  x2 = x2.astype(float)\n",
        "  x1 = np.mat(x1)\n",
        "  x2 = np.mat(x2)\n",
        "  num = float(x1 * x2.T)\n",
        "  denom = np.linalg.norm(x1) * np.linalg.norm(x2)\n",
        "  cos = num / denom\n",
        "  sim = 0.5 + 0.5 * cos\n",
        "  return -sim\n",
        "\n",
        "\n"
      ],
      "execution_count": 0,
      "outputs": []
    },
    {
      "cell_type": "code",
      "metadata": {
        "id": "oSSqfyDlN_Nw",
        "colab_type": "code",
        "colab": {}
      },
      "source": [
        "import operator\n",
        "# distance: 0(euclidean_distance), 1(normalized_euclidean_distance), 2(cos_sim)\n",
        "def KNN(train, test, k=1, dist_type=0):\n",
        "  dist_list= []\n",
        "  for index, x in enumerate(train):\n",
        "    if dist_type == 0:\n",
        "      dist = euclidean_distance(x[:-1], test[:-1])\n",
        "      dist_list.append((x, dist))\n",
        "    elif dist_type == 1:\n",
        "      dist = normalized_euclidean_distance(x[:-1], test[:-1])\n",
        "      dist_list.append((x, dist))\n",
        "    elif dist_type == 2:\n",
        "      dist = cos_sim(x[:-1], test[:-1])\n",
        "      dist_list.append((x, dist))\n",
        "  dist_list.sort(key=operator.itemgetter(1))\n",
        "\n",
        "  neighbors = [dist_list[i][0] for i in range(k)]\n",
        "  # print(neighbors)\n",
        "\n",
        "  label_count = {}\n",
        "  for index, neighbor in enumerate(neighbors):\n",
        "    if neighbor[-1] in label_count:\n",
        "      label_count[neighbor[-1]] += 1\n",
        "    else:\n",
        "      label_count[neighbor[-1]] = 1\n",
        "  # print(label_count)\n",
        "\n",
        "  return max(label_count.items(), key=lambda x:x[1])\n",
        "\n",
        "def evaluate_accuracy(test, predictions):\n",
        "  acc_count = 0\n",
        "  for i in range(len(test)):\n",
        "    if(test[i][-1] == predictions[i]):\n",
        "      acc_count += 1\n",
        "  return (float(acc_count) / float(len(test)))\n",
        "\n",
        "\n"
      ],
      "execution_count": 0,
      "outputs": []
    },
    {
      "cell_type": "markdown",
      "metadata": {
        "id": "E5XrSuTDdNS8",
        "colab_type": "text"
      },
      "source": [
        "## euclidean distance"
      ]
    },
    {
      "cell_type": "code",
      "metadata": {
        "id": "IJCVgfi5c4CW",
        "colab_type": "code",
        "colab": {
          "base_uri": "https://localhost:8080/",
          "height": 321
        },
        "outputId": "187d115f-79de-4d41-ad3d-159f241ea2bd"
      },
      "source": [
        "import matplotlib.pyplot as plt\n",
        "\n",
        "k_values = [1, 3, 5, 7, 9, 11, 13, 15, 17, 19]\n",
        "acc_values = []\n",
        "\n",
        "for k_value in k_values:\n",
        "  predictions = []\n",
        "  for t in test:\n",
        "    pre_label, count = KNN(train, t, k=k_value, dist_type=0)\n",
        "    predictions.append(pre_label)\n",
        "  acc = evaluate_accuracy(test, predictions)\n",
        "  acc_values.append(acc)\n",
        "\n",
        "print(acc_values)\n",
        "\n",
        "plt.bar(k_values, acc_values)\n",
        "plt.ylabel('accuracy')\n",
        "plt.xlabel('k_values')\n",
        "plt.ylim(0.90, 1)\n",
        "plt.show()"
      ],
      "execution_count": 338,
      "outputs": [
        {
          "output_type": "stream",
          "text": [
            "[0.9333333333333333, 0.9333333333333333, 0.9555555555555556, 0.9555555555555556, 0.9555555555555556, 0.9555555555555556, 0.9555555555555556, 0.9555555555555556, 0.9555555555555556, 0.9555555555555556]\n"
          ],
          "name": "stdout"
        },
        {
          "output_type": "display_data",
          "data": {
            "image/png": "[encoded data removed]",
            "text/plain": [
              "<Figure size 432x288 with 1 Axes>"
            ]
          },
          "metadata": {
            "tags": []
          }
        }
      ]
    },
    {
      "cell_type": "markdown",
      "metadata": {
        "id": "K4I78eMKhsM8",
        "colab_type": "text"
      },
      "source": [
        "## normalized_euclidean_distance"
      ]
    },
    {
      "cell_type": "code",
      "metadata": {
        "id": "2AxfHpWJhroY",
        "colab_type": "code",
        "colab": {
          "base_uri": "https://localhost:8080/",
          "height": 321
        },
        "outputId": "500a290d-04be-492a-fd32-426f25254afb"
      },
      "source": [
        "k_values = [1, 3, 5, 7, 9, 11, 13, 15, 17, 19]\n",
        "acc_values = []\n",
        "\n",
        "for k_value in k_values:\n",
        "  predictions = []\n",
        "  for t in test:\n",
        "    pre_label, count = KNN(train, t, k=k_value, dist_type=1)\n",
        "    predictions.append(pre_label)\n",
        "  acc = evaluate_accuracy(test, predictions)\n",
        "  acc_values.append(acc)\n",
        "\n",
        "print(acc_values)\n",
        "\n",
        "plt.bar(k_values, acc_values)\n",
        "plt.ylabel('accuracy')\n",
        "plt.xlabel('k_values')\n",
        "plt.ylim(0.90, 1)\n",
        "plt.show()"
      ],
      "execution_count": 339,
      "outputs": [
        {
          "output_type": "stream",
          "text": [
            "[0.9111111111111111, 0.9111111111111111, 0.9111111111111111, 0.9111111111111111, 0.9555555555555556, 0.9555555555555556, 0.9555555555555556, 0.9555555555555556, 0.9555555555555556, 0.9555555555555556]\n"
          ],
          "name": "stdout"
        },
        {
          "output_type": "display_data",
          "data": {
            "image/png": "[encoded data removed]",
            "text/plain": [
              "<Figure size 432x288 with 1 Axes>"
            ]
          },
          "metadata": {
            "tags": []
          }
        }
      ]
    },
    {
      "cell_type": "markdown",
      "metadata": {
        "id": "1qyN5EPKh9H0",
        "colab_type": "text"
      },
      "source": [
        "## cos_sim"
      ]
    },
    {
      "cell_type": "code",
      "metadata": {
        "id": "muUSSFjbiA88",
        "colab_type": "code",
        "colab": {
          "base_uri": "https://localhost:8080/",
          "height": 321
        },
        "outputId": "886013b2-44e3-4e1b-a2cd-21f9ab1146ed"
      },
      "source": [
        "k_values = [1, 3, 5, 7, 9, 11, 13, 15, 17, 19]\n",
        "acc_values = []\n",
        "\n",
        "for k_value in k_values:\n",
        "  predictions = []\n",
        "  for t in test:\n",
        "    pre_label, count = KNN(train, t, k=k_value, dist_type=2)\n",
        "    predictions.append(pre_label)\n",
        "  acc = evaluate_accuracy(test, predictions)\n",
        "  acc_values.append(acc)\n",
        "\n",
        "print(acc_values)\n",
        "\n",
        "plt.bar(k_values, acc_values)\n",
        "plt.ylabel('accuracy')\n",
        "plt.xlabel('k_values')\n",
        "plt.ylim(0.90, 1)\n",
        "plt.show()"
      ],
      "execution_count": 340,
      "outputs": [
        {
          "output_type": "stream",
          "text": [
            "[0.9777777777777777, 0.9777777777777777, 0.9555555555555556, 0.9555555555555556, 0.9555555555555556, 0.9555555555555556, 0.9555555555555556, 0.9555555555555556, 0.9555555555555556, 0.9555555555555556]\n"
          ],
          "name": "stdout"
        },
        {
          "output_type": "display_data",
          "data": {
            "image/png": "[encoded data removed]",
            "text/plain": [
              "<Figure size 432x288 with 1 Axes>"
            ]
          },
          "metadata": {
            "tags": []
          }
        }
      ]
    },
    {
      "cell_type": "markdown",
      "metadata": {
        "id": "CQO7yd3jjbWW",
        "colab_type": "text"
      },
      "source": [
        "# **Result**\n",
        "\n",
        "### The accuracy rate will vary according to each random training set. For this training set, the best distance metric is cosine similarity and the best number of neighbor K is 1 and 3, which can get the highest accuracy 0.9777"
      ]
    },
    {
      "cell_type": "markdown",
      "metadata": {
        "id": "1GjTUqjJisLF",
        "colab_type": "text"
      },
      "source": [
        "## Use scikit-learn for comparison"
      ]
    },
    {
      "cell_type": "code",
      "metadata": {
        "id": "xljjQjxkf1wn",
        "colab_type": "code",
        "colab": {
          "base_uri": "https://localhost:8080/",
          "height": 343
        },
        "outputId": "574d2670-fe3b-4745-fd8c-2e75d6a8cf63"
      },
      "source": [
        "from sklearn import neighbors\n",
        "from sklearn import datasets\n",
        "knn = neighbors.KNeighborsClassifier()\n",
        "knn.fit(train[:,:-1], train[:,-1]) \n",
        "predict_label = knn.predict(test[:,:-1])\n",
        "import sklearn.metrics as metrics\n",
        "print(metrics.classification_report(test[:,-1], predict_label))"
      ],
      "execution_count": 341,
      "outputs": [
        {
          "output_type": "stream",
          "text": [
            "                 precision    recall  f1-score   support\n",
            "\n",
            "    Iris-setosa       1.00      1.00      1.00        13\n",
            "Iris-versicolor       1.00      0.89      0.94        18\n",
            " Iris-virginica       0.88      1.00      0.93        14\n",
            "\n",
            "       accuracy                           0.96        45\n",
            "      macro avg       0.96      0.96      0.96        45\n",
            "   weighted avg       0.96      0.96      0.96        45\n",
            "\n"
          ],
          "name": "stdout"
        },
        {
          "output_type": "stream",
          "text": [
            "/usr/local/lib/python3.6/dist-packages/sklearn/utils/validation.py:755: FutureWarning: Beginning in version 0.22, arrays of bytes/strings will be converted to decimal numbers if dtype='numeric'. It is recommended that you convert the array to a float dtype before using it in scikit-learn, for example by using your_array = your_array.astype(np.float64).\n",
            "  estimator=estimator)\n",
            "/usr/local/lib/python3.6/dist-packages/sklearn/neighbors/_base.py:400: FutureWarning: Beginning in version 0.22, arrays of bytes/strings will be converted to decimal numbers if dtype='numeric'. It is recommended that you convert the array to a float dtype before using it in scikit-learn, for example by using your_array = your_array.astype(np.float64).\n",
            "  X = check_array(X, accept_sparse='csr')\n",
            "/usr/local/lib/python3.6/dist-packages/sklearn/neighbors/_classification.py:171: FutureWarning: Beginning in version 0.22, arrays of bytes/strings will be converted to decimal numbers if dtype='numeric'. It is recommended that you convert the array to a float dtype before using it in scikit-learn, for example by using your_array = your_array.astype(np.float64).\n",
            "  X = check_array(X, accept_sparse='csr')\n",
            "/usr/local/lib/python3.6/dist-packages/sklearn/neighbors/_base.py:605: FutureWarning: Beginning in version 0.22, arrays of bytes/strings will be converted to decimal numbers if dtype='numeric'. It is recommended that you convert the array to a float dtype before using it in scikit-learn, for example by using your_array = your_array.astype(np.float64).\n",
            "  X = check_array(X, accept_sparse='csr')\n"
          ],
          "name": "stderr"
        }
      ]
    }
  ]
}