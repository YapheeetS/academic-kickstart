{
  "nbformat": 4,
  "nbformat_minor": 0,
  "metadata": {
    "colab": {
      "name": "practice_classification.ipynb",
      "provenance": [],
      "collapsed_sections": []
    },
    "kernelspec": {
      "name": "python3",
      "display_name": "Python 3"
    }
  },
  "cells": [
    {
      "cell_type": "code",
      "metadata": {
        "id": "-uVzFtr6HeAt",
        "colab_type": "code",
        "colab": {}
      },
      "source": [
        "import numpy as np\n",
        "import pandas as pd\n",
        "from sklearn import feature_extraction, linear_model, model_selection, preprocessing\n",
        "import re\n",
        "import string\n",
        "import os\n",
        "\n",
        "from string import punctuation\n",
        "from collections import defaultdict\n",
        "from nltk import FreqDist\n",
        "from sklearn.linear_model import LogisticRegression\n",
        "from sklearn.pipeline import make_pipeline\n",
        "from sklearn.feature_extraction.text import CountVectorizer as countVectorizer\n",
        "from sklearn.model_selection import train_test_split\n",
        "from sklearn import feature_extraction, linear_model, model_selection, preprocessing"
      ],
      "execution_count": 0,
      "outputs": []
    },
    {
      "cell_type": "code",
      "metadata": {
        "id": "n-VsO8mKRAEH",
        "colab_type": "code",
        "colab": {
          "base_uri": "https://localhost:8080/",
          "height": 272
        },
        "outputId": "2b694cb2-b26a-43ea-adfd-8213e5dce68b"
      },
      "source": [
        "def remove_URL(text):\n",
        "    url = re.compile(r'https?://\\S+|www\\.\\S+')\n",
        "    return url.sub(r'', text)\n",
        "\n",
        "\n",
        "def remove_punct(text):\n",
        "    table = str.maketrans('', '', string.punctuation)\n",
        "    return text.translate(table)\n",
        "\n",
        "\n",
        "train_df = pd.read_csv(\"./train.csv\")\n",
        "test_df = pd.read_csv(\"./test.csv\")\n",
        "submission = pd.read_csv(\"./sample_submission.csv\")\n",
        "\n",
        "print(train_df.head(10))\n",
        "\n",
        "data = pd.concat([train_df, test_df], axis=0, sort=False)\n",
        "\n",
        "print(\"Number of unique locations: \", data.location.nunique())\n",
        "\n",
        "\n",
        "print(\"Missing values:\")\n",
        "data.isna().sum()\n",
        "data.location.fillna(\"None\", inplace=True)\n",
        "data['text'] = data['text'].apply(lambda x: remove_URL(x))\n",
        "data['text'] = data['text'].apply(lambda x: remove_punct(x))\n",
        "\n"
      ],
      "execution_count": 9,
      "outputs": [
        {
          "output_type": "stream",
          "text": [
            "   id keyword  ...                                               text target\n",
            "0   1     NaN  ...  Our Deeds are the Reason of this #earthquake M...      1\n",
            "1   4     NaN  ...             Forest fire near La Ronge Sask. Canada      1\n",
            "2   5     NaN  ...  All residents asked to 'shelter in place' are ...      1\n",
            "3   6     NaN  ...  13,000 people receive #wildfires evacuation or...      1\n",
            "4   7     NaN  ...  Just got sent this photo from Ruby #Alaska as ...      1\n",
            "5   8     NaN  ...  #RockyFire Update => California Hwy. 20 closed...      1\n",
            "6  10     NaN  ...  #flood #disaster Heavy rain causes flash flood...      1\n",
            "7  13     NaN  ...  I'm on top of the hill and I can see a fire in...      1\n",
            "8  14     NaN  ...  There's an emergency evacuation happening now ...      1\n",
            "9  15     NaN  ...  I'm afraid that the tornado is coming to our a...      1\n",
            "\n",
            "[10 rows x 5 columns]\n",
            "Number of unique locations:  4521\n",
            "Missing values:\n"
          ],
          "name": "stdout"
        }
      ]
    },
    {
      "cell_type": "code",
      "metadata": {
        "id": "xD58OPuORKzR",
        "colab_type": "code",
        "colab": {
          "base_uri": "https://localhost:8080/",
          "height": 136
        },
        "outputId": "dba30f1e-280a-4528-fdf3-20a11e971325"
      },
      "source": [
        "vectorizer = feature_extraction.text.CountVectorizer()\n",
        "\n",
        "train_v = vectorizer.fit_transform(train_df[\"text\"])\n",
        "test_v = vectorizer.transform(test_df[\"text\"])\n",
        "\n",
        "linear_classifier = linear_model.RidgeClassifier()\n",
        "score = model_selection.cross_val_score(linear_classifier, train_v, train_df[\"target\"], cv=3, scoring=\"f1\")\n",
        "print(score)\n",
        "linear_classifier.fit(train_v, train_df[\"target\"])\n",
        "submission[\"target\"] = linear_classifier.predict(test_v)\n",
        "print(submission.head())\n",
        "submission.to_csv('submission.csv', index=False)"
      ],
      "execution_count": 10,
      "outputs": [
        {
          "output_type": "stream",
          "text": [
            "[0.59453669 0.56498283 0.64082434]\n",
            "   id  target\n",
            "0   0       0\n",
            "1   2       1\n",
            "2   3       1\n",
            "3   9       0\n",
            "4  11       1\n"
          ],
          "name": "stdout"
        }
      ]
    }
  ]
}